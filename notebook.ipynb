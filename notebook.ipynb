{
 "cells": [
  {
   "cell_type": "markdown",
   "id": "2d206458",
   "metadata": {},
   "source": [
    "## #3.0 LLMs and Chat Models"
   ]
  },
  {
   "cell_type": "code",
   "execution_count": null,
   "id": "0440cbb1",
   "metadata": {},
   "outputs": [
    {
     "data": {
      "text/plain": [
       "('\\n\\nAs of 2021, there are eight planets in our solar system: Mercury, Venus, Earth, Mars, Jupiter, Saturn, Uranus, and Neptune. However, there may be more planets in other solar systems beyond our own.',\n",
       " 'As of now, there are eight recognized planets in our solar system. These are, in order from the Sun: Mercury, Venus, Earth, Mars, Jupiter, Saturn, Uranus, and Neptune. Pluto was previously considered the ninth planet but was reclassified as a \"dwarf planet\" by the International Astronomical Union in 2006.')"
      ]
     },
     "execution_count": 9,
     "metadata": {},
     "output_type": "execute_result"
    }
   ],
   "source": [
    "from langchain.llms import OpenAI\n",
    "from langchain.chat_models import ChatOpenAI\n",
    "\n",
    "# ✅ LLM (기본 모델은 더 이상 사용하지 않으므로 명시적으로 지정)\n",
    "llm = OpenAI(model_name=\"gpt-3.5-turbo\", temperature=0)\n",
    "# llm = OpenAI(model_name=\"gpt-3.5-turbo-instruct\", temperature=0)\n",
    "\n",
    "# ✅ Chat 모델도 명시적으로 모델 이름 지정\n",
    "# chat = ChatOpenAI(model_name=\"gpt-4o\", temperature=0)\n",
    "chat = ChatOpenAI(model_name=\"gpt-4o\", temperature=0) # temperature은 모델의 창의성을 결정하는 숫자이다.\n",
    "\n",
    "# 요청\n",
    "a = llm.predict(\"How many planets are there?\")\n",
    "b = chat.predict(\"How many planets are there?\")\n",
    "\n",
    "a, b\n"
   ]
  },
  {
   "cell_type": "markdown",
   "id": "8cb0a597",
   "metadata": {},
   "source": [
    "## #3.1 Predict Messages"
   ]
  },
  {
   "cell_type": "code",
   "execution_count": 10,
   "id": "ace96403",
   "metadata": {},
   "outputs": [],
   "source": [
    "from langchain.chat_models import ChatOpenAI\n",
    "\n",
    "chat = ChatOpenAI(\n",
    "    temperature=0.1\n",
    ")"
   ]
  },
  {
   "cell_type": "code",
   "execution_count": null,
   "id": "b3aca822",
   "metadata": {},
   "outputs": [
    {
     "data": {
      "text/plain": [
       "AIMessage(content='La distanza tra il Messico e la Thailandia è di circa 16.000 chilometri. Mi chiamo Paolo, sono un esperto di geografia. Avete altre domande?')"
      ]
     },
     "execution_count": 12,
     "metadata": {},
     "output_type": "execute_result"
    }
   ],
   "source": [
    "from langchain.schema import HumanMessage, AIMessage, SystemMessage\n",
    "\n",
    "messages = [\n",
    "    SystemMessage(content=\"you are a geography expert. And you only reply in Italian.\",\n",
    "    ),\n",
    "    AIMessage(content = \"Ciao, mi chiamo Paolo!\"),\n",
    "    HumanMessage(content=\"what is the distance between Mexico and Thailand. Also, what is your name?\")\n",
    "]\n",
    "\n",
    "chat.predict_messages(messages)"
   ]
  },
  {
   "cell_type": "code",
   "execution_count": null,
   "id": "087f7548",
   "metadata": {},
   "outputs": [],
   "source": [
    "from langchain.schema import HumanMessage, AIMessage, SystemMessage\n",
    "\n",
    "messages = [\n",
    "    SystemMessage(content=\"you are a geography expert. And you only reply in {language}.\",\n",
    "    ),\n",
    "    AIMessage(content = \"Ciao, mi chiamo {name}!\"),\n",
    "    HumanMessage(content=\"what is the distance between {country_a} and {country_b}. Also, what is your name?\")\n",
    "]\n",
    "# 이런식으로 변수처럼 만들어서 사용할 수도 있다.\n",
    "chat.predict_messages(messages)"
   ]
  },
  {
   "cell_type": "markdown",
   "id": "3754d167",
   "metadata": {},
   "source": [
    "## #3.2 Prompt Tempaltes"
   ]
  },
  {
   "cell_type": "code",
   "execution_count": 14,
   "id": "0c84fd7e",
   "metadata": {},
   "outputs": [
    {
     "data": {
      "text/plain": [
       "'The distance between Mexico and Thailand is approximately 9,500 miles (15,300 kilometers) when measured in a straight line.'"
      ]
     },
     "execution_count": 14,
     "metadata": {},
     "output_type": "execute_result"
    }
   ],
   "source": [
    "from langchain.chat_models import ChatOpenAI\n",
    "from langchain.prompts import PromptTemplate, ChatPromptTemplate\n",
    "\n",
    "template = PromptTemplate.from_template(\n",
    "    \"what is the distance between {country_a} and {country_b}\"\n",
    "    )\n",
    "\n",
    "prompt = template.format(\n",
    "    country_a = \"Mexico\",\n",
    "    country_b = \"Thailand\"\n",
    ")\n",
    "\n",
    "chat.predict(prompt)"
   ]
  },
  {
   "cell_type": "code",
   "execution_count": 17,
   "id": "743b0ad0",
   "metadata": {},
   "outputs": [
    {
     "data": {
      "text/plain": [
       "AIMessage(content='Η απόσταση μεταξύ του Μεξικού και της Ταϊλάνδης είναι περίπου 16.000 χιλιόμετρα. Το όνομά μου είναι Σωκράτης.')"
      ]
     },
     "execution_count": 17,
     "metadata": {},
     "output_type": "execute_result"
    }
   ],
   "source": [
    "template = ChatPromptTemplate.from_messages(\n",
    "    [\n",
    "    (\"system\",\"you are a geography expert. And you only reply in {language}.\"),\n",
    "    (\"ai\", \"ciao, mi chiamo {name}!\"),\n",
    "    (\"human\",\"what is the distance between {country_a} and {country_b}. Also, what is your name?\")\n",
    "    ]\n",
    ")\n",
    "# 이런식으로 변수처럼 만들어서 사용할 수도 있다.\n",
    "chat.predict_messages(messages)\n",
    "\n",
    "prompt = template.format_messages(\n",
    "    language = \"Greek\",\n",
    "    name = \"Socrates\",\n",
    "    country_a = \"Mexico\",\n",
    "    country_b = \"Thailand\"\n",
    ")\n",
    "\n",
    "chat.predict_messages(prompt)"
   ]
  },
  {
   "cell_type": "markdown",
   "id": "f3a4a959",
   "metadata": {},
   "source": [
    "## #3.3 OutputParser and LCEL"
   ]
  },
  {
   "cell_type": "code",
   "execution_count": 18,
   "id": "26332a21",
   "metadata": {},
   "outputs": [],
   "source": [
    "from langchain.chat_models import ChatOpenAI\n",
    "from langchain.prompts import ChatPromptTemplate"
   ]
  },
  {
   "cell_type": "code",
   "execution_count": null,
   "id": "51af6237",
   "metadata": {},
   "outputs": [
    {
     "data": {
      "text/plain": [
       "['Hello, how, are, you']"
      ]
     },
     "execution_count": 19,
     "metadata": {},
     "output_type": "execute_result"
    }
   ],
   "source": [
    "from langchain.schema import BaseOutputParser\n",
    "\n",
    "class CommaOutputparser(BaseOutputParser):\n",
    "    #outputPaser는 paser라는 메서드를 꼭 구현해야한다.\n",
    "    def parse(self, text):\n",
    "        return text.strip().split(\"'\")\n",
    "    \n",
    "p = CommaOutputparser()\n",
    "\n",
    "p.parse(\"Hello, how, are, you\")\n",
    "#이렇게 하면 공백이 같이 출력되어나온다."
   ]
  },
  {
   "cell_type": "code",
   "execution_count": null,
   "id": "1adc0735",
   "metadata": {},
   "outputs": [
    {
     "data": {
      "text/plain": [
       "['Hello', 'how', 'are', 'you']"
      ]
     },
     "execution_count": 22,
     "metadata": {},
     "output_type": "execute_result"
    }
   ],
   "source": [
    "from langchain.schema import BaseOutputParser\n",
    "\n",
    "class CommaOutputparser(BaseOutputParser):\n",
    "    #outputPaser는 paser라는 메서드를 꼭 구현해야한다.\n",
    "    def parse(self, text):\n",
    "        items = text.strip().split(\",\")\n",
    "        return list(map(str.strip,items))\n",
    "    \n",
    "p = CommaOutputparser()\n",
    "\n",
    "p.parse(\"Hello, how, are, you\")\n",
    "#공백이 사라지게된다."
   ]
  },
  {
   "cell_type": "code",
   "execution_count": 26,
   "id": "9a75e9d0",
   "metadata": {},
   "outputs": [
    {
     "data": {
      "text/plain": [
       "AIMessage(content='1. Mercury\\n2. Venus\\n3. Earth\\n4. Mars\\n5. Jupiter\\n6. Saturn\\n7. Uranus\\n8. Neptune\\n9. Pluto')"
      ]
     },
     "execution_count": 26,
     "metadata": {},
     "output_type": "execute_result"
    }
   ],
   "source": [
    "template = ChatPromptTemplate.from_messages(\n",
    "        [\n",
    "            (\"system\",\"you are a list generating machine. Everything you are asked will be answered with a\"\n",
    "        \"list of max {max_items}. Do NOT reply with anything else.\"),\n",
    "        (\"human\", \"{question}\")\n",
    "    ]\n",
    ")\n",
    "\n",
    "prompt = template.format_messages(\n",
    "    max_items = 10,\n",
    "    question = \"what are the planets?\"\n",
    ")\n",
    "\n",
    "chat.predict_messages(prompt)"
   ]
  },
  {
   "cell_type": "code",
   "execution_count": null,
   "id": "846ff3cf",
   "metadata": {},
   "outputs": [
    {
     "data": {
      "text/plain": [
       "AIMessage(content='Mercury, Venus, Earth')"
      ]
     },
     "execution_count": 28,
     "metadata": {},
     "output_type": "execute_result"
    }
   ],
   "source": [
    "template = ChatPromptTemplate.from_messages(\n",
    "        [\n",
    "            (\"system\",\"you are a list generating machine. Everything you are asked will be answered with a comma separated\"\n",
    "        \"list of max {max_items}. Do NOT reply with anything else.\"), #comma 라고 알려주기\n",
    "        (\"human\", \"{question}\")\n",
    "    ]\n",
    ")\n",
    "\n",
    "prompt = template.format_messages(\n",
    "    max_items = 10,\n",
    "    question = \"what are the planets?\"\n",
    ")\n",
    "\n",
    "chat.predict_messages(prompt)"
   ]
  },
  {
   "cell_type": "code",
   "execution_count": null,
   "id": "241bd13d",
   "metadata": {},
   "outputs": [
    {
     "data": {
      "text/plain": [
       "['Mercury',\n",
       " 'Venus',\n",
       " 'Earth',\n",
       " 'Mars',\n",
       " 'Jupiter',\n",
       " 'Saturn',\n",
       " 'Uranus',\n",
       " 'Neptune',\n",
       " 'Pluto']"
      ]
     },
     "execution_count": 29,
     "metadata": {},
     "output_type": "execute_result"
    }
   ],
   "source": [
    "template = ChatPromptTemplate.from_messages(\n",
    "        [\n",
    "            (\"system\",\"you are a list generating machine. Everything you are asked will be answered with a comma separated\"\n",
    "        \"list of max {max_items}. Do NOT reply with anything else.\"), #comma 라고 알려주기\n",
    "        (\"human\", \"{question}\")\n",
    "    ]\n",
    ")\n",
    "\n",
    "prompt = template.format_messages(\n",
    "    max_items = 10,\n",
    "    question = \"what are the planets?\"\n",
    ")\n",
    "\n",
    "result = chat.predict_messages(prompt)\n",
    "\n",
    "p = CommaOutputparser()\n",
    "p.parse(result.content) #LLM으로 부터 성공적인 응답을 받음"
   ]
  },
  {
   "cell_type": "markdown",
   "id": "9676d48e",
   "metadata": {},
   "source": [
    "#### 코드가 엄청길어지는데 쉬운 방법과 사용할 LangChain Expression Language언어가 얼마나 효율적인지 살펴보기\n",
    "#### 필요한것은 template와 OutputPaser 그리고 Chat model이 전부다"
   ]
  },
  {
   "cell_type": "code",
   "execution_count": null,
   "id": "ecdc7140",
   "metadata": {},
   "outputs": [],
   "source": [
    "template = ChatPromptTemplate.from_messages(\n",
    "        [\n",
    "            (\"system\",\"you are a list generating machine. Everything you are asked will be answered with a comma separated\"\n",
    "        \"list of max {max_items}. Do NOT reply with anything else.\"), #comma 라고 알려주기\n",
    "        (\"human\", \"{question}\")\n",
    "    ]\n",
    ")"
   ]
  },
  {
   "cell_type": "code",
   "execution_count": 30,
   "id": "2db2fd5a",
   "metadata": {},
   "outputs": [
    {
     "data": {
      "text/plain": [
       "['Pikachu', 'Charmander', 'Bulbasaur', 'Squirtle', 'Jigglypuff']"
      ]
     },
     "execution_count": 30,
     "metadata": {},
     "output_type": "execute_result"
    }
   ],
   "source": [
    "chain = template |chat | CommaOutputparser() # chain을 만듬 | 연산자를 사용해서 \n",
    "\n",
    "chain.invoke({\n",
    "    \"max_items\":5,\n",
    "    \"question\":\"what are the pokemons?\"\n",
    "})"
   ]
  },
  {
   "cell_type": "code",
   "execution_count": null,
   "id": "96b3cadf",
   "metadata": {},
   "outputs": [],
   "source": [
    "chain_one = template |chat | CommaOutputparser() # chain을 만듬 | 연산자를 사용해서 \n",
    "\n",
    "# chain_two = template |chat | outputParser\n",
    "\n",
    "# all = chain_one | chain_two | output <--- 이런식으로 chain을 만들어줄 수 있다.\n",
    "\n",
    "chain.invoke({\n",
    "    \"max_items\":5,\n",
    "    \"question\":\"what are the pokemons?\"\n",
    "})"
   ]
  },
  {
   "cell_type": "markdown",
   "id": "014446cf",
   "metadata": {},
   "source": [
    "## #3.4 Chaining Chains"
   ]
  },
  {
   "cell_type": "code",
   "execution_count": 36,
   "id": "15c86d56",
   "metadata": {},
   "outputs": [],
   "source": [
    "from langchain.chat_models import ChatOpenAI\n",
    "from langchain.prompts import ChatPromptTemplate\n",
    "from langchain.callbacks import StreamingStdOutCallbackHandler\n",
    "\n",
    "chat = ChatOpenAI(temperature=0.1,#streaming 활성화 streaming은 우리가 model의 응답이 생성되는걸 볼수있게 해준다.\n",
    "                  streaming=True,\n",
    "                  callbacks=[StreamingStdOutCallbackHandler()] #이렇게 하면 다음번에 질문할 때는 console에서 응답의 진행을 볼 수 있다.\n",
    "                  ) \n",
    "\n",
    "chef_prompt = ChatPromptTemplate.from_messages([\n",
    "    (\"system\", \"you are a world-class international chef. You create easy to follow\"\n",
    "    \"recipies for any type of cuisine with easy to find ingredients.\"),\n",
    "    (\"human\", \"I want to cook {cuisine} food.\")\n",
    "])\n",
    "\n",
    "chef_chain = chef_prompt | chat"
   ]
  },
  {
   "cell_type": "code",
   "execution_count": 38,
   "id": "058eef87",
   "metadata": {},
   "outputs": [
    {
     "name": "stdout",
     "output_type": "stream",
     "text": [
      "Great choice! Indian cuisine is known for its bold flavors and aromatic spices. Let's make a classic and delicious dish - Chicken Tikka Masala. Here's a simple recipe for you to try at home:\n",
      "\n",
      "Ingredients:\n",
      "- 1 lb boneless, skinless chicken breasts, cut into bite-sized pieces\n",
      "- 1 cup plain yogurt\n",
      "- 2 tablespoons lemon juice\n",
      "- 2 tablespoons vegetable oil\n",
      "- 1 onion, finely chopped\n",
      "- 3 cloves garlic, minced\n",
      "- 1 tablespoon ginger, minced\n",
      "- 1 can (14 oz) tomato sauce\n",
      "- 1 tablespoon garam masala\n",
      "- 1 teaspoon ground cumin\n",
      "- 1 teaspoon ground coriander\n",
      "- 1 teaspoon paprika\n",
      "- 1/2 teaspoon turmeric\n",
      "- 1/2 teaspoon cayenne pepper (adjust to taste)\n",
      "- Salt and pepper to taste\n",
      "- Fresh cilantro, chopped (for garnish)\n",
      "- Cooked rice or naan bread (for serving)\n",
      "\n",
      "Instructions:\n",
      "1. In a bowl, combine the yogurt, lemon juice, 1 tablespoon of vegetable oil, half of the minced garlic, half of the minced ginger, and a pinch of salt. Add the chicken pieces and mix well to coat. Cover and marinate in the refrigerator for at least 1 hour, or overnight for best results.\n",
      "\n",
      "2. Preheat the oven to 400°F (200°C). Thread the marinated chicken pieces onto skewers and place them on a baking sheet lined with foil. Bake for about 20-25 minutes, or until the chicken is cooked through and slightly charred.\n",
      "\n",
      "3. In a large skillet, heat the remaining tablespoon of vegetable oil over medium heat. Add the chopped onion and cook until softened, about 5 minutes. Add the remaining garlic and ginger, and cook for another minute until fragrant.\n",
      "\n",
      "4. Stir in the tomato sauce, garam masala, cumin, coriander, paprika, turmeric, cayenne pepper, salt, and pepper. Simmer the sauce for about 10 minutes, allowing the flavors to meld together.\n",
      "\n",
      "5. Add the cooked chicken tikka pieces to the sauce and simmer for an additional 5-10 minutes, stirring occasionally.\n",
      "\n",
      "6. Serve the Chicken Tikka Masala over cooked rice or with naan bread. Garnish with fresh cilantro and enjoy!\n",
      "\n",
      "This Chicken Tikka Masala recipe is sure to impress your family and friends with its rich and flavorful taste. Feel free to adjust the spice levels to suit your preference. Enjoy your homemade Indian feast!As a vegetarian chef, I can help you make a vegetarian version of Chicken Tikka Masala by replacing the chicken with a suitable alternative. Here's how you can modify the recipe:\n",
      "\n",
      "Ingredients:\n",
      "- 1 lb of paneer or extra-firm tofu, cut into bite-sized pieces: Paneer is a popular Indian cheese that holds its shape well when cooked, making it a great substitute for chicken in this dish. Extra-firm tofu is another excellent option that can absorb the flavors of the marinade and sauce.\n",
      "- 1 cup plain yogurt: You can use plant-based yogurt made from soy, almond, or coconut milk as a dairy-free alternative.\n",
      "- Instead of lemon juice, you can use lime juice for a similar tangy flavor.\n",
      "- Use a high-heat oil like avocado oil or coconut oil instead of vegetable oil for marinating and cooking.\n",
      "- For garnish, you can use fresh cilantro as suggested in the recipe.\n",
      "\n",
      "Instructions:\n",
      "1. Follow the same marinating process as in the original recipe, but use paneer or tofu instead of chicken. Marinate the paneer or tofu in the yogurt, lime juice, oil, garlic, ginger, and salt mixture for at least 1 hour.\n",
      "2. Bake the marinated paneer or tofu skewers in the preheated oven until they are cooked through and slightly charred.\n",
      "3. Proceed with the sauce preparation as directed in the recipe, replacing chicken with the cooked paneer or tofu pieces.\n",
      "4. Simmer the paneer or tofu in the sauce to allow the flavors to meld together.\n",
      "5. Serve the Vegetarian Tikka Masala over rice or with naan bread, garnished with fresh cilantro.\n",
      "\n",
      "By making these simple ingredient swaps, you can enjoy a delicious and vegetarian-friendly version of Chicken Tikka Masala. Enjoy your flavorful Indian feast!"
     ]
    },
    {
     "data": {
      "text/plain": [
       "AIMessageChunk(content=\"As a vegetarian chef, I can help you make a vegetarian version of Chicken Tikka Masala by replacing the chicken with a suitable alternative. Here's how you can modify the recipe:\\n\\nIngredients:\\n- 1 lb of paneer or extra-firm tofu, cut into bite-sized pieces: Paneer is a popular Indian cheese that holds its shape well when cooked, making it a great substitute for chicken in this dish. Extra-firm tofu is another excellent option that can absorb the flavors of the marinade and sauce.\\n- 1 cup plain yogurt: You can use plant-based yogurt made from soy, almond, or coconut milk as a dairy-free alternative.\\n- Instead of lemon juice, you can use lime juice for a similar tangy flavor.\\n- Use a high-heat oil like avocado oil or coconut oil instead of vegetable oil for marinating and cooking.\\n- For garnish, you can use fresh cilantro as suggested in the recipe.\\n\\nInstructions:\\n1. Follow the same marinating process as in the original recipe, but use paneer or tofu instead of chicken. Marinate the paneer or tofu in the yogurt, lime juice, oil, garlic, ginger, and salt mixture for at least 1 hour.\\n2. Bake the marinated paneer or tofu skewers in the preheated oven until they are cooked through and slightly charred.\\n3. Proceed with the sauce preparation as directed in the recipe, replacing chicken with the cooked paneer or tofu pieces.\\n4. Simmer the paneer or tofu in the sauce to allow the flavors to meld together.\\n5. Serve the Vegetarian Tikka Masala over rice or with naan bread, garnished with fresh cilantro.\\n\\nBy making these simple ingredient swaps, you can enjoy a delicious and vegetarian-friendly version of Chicken Tikka Masala. Enjoy your flavorful Indian feast!\")"
      ]
     },
     "execution_count": 38,
     "metadata": {},
     "output_type": "execute_result"
    }
   ],
   "source": [
    "veg_chef_prompt = ChatPromptTemplate.from_messages([\n",
    "    (\"system\", \"You are a vegetarian chef specialized on making traditional recipies vegetarian.\"\n",
    "    \"You find alternative ingredients and explain their preparation. You don't radically modify the recipe.\"\n",
    "    \"if there is no alternative for a food just say you don't know how to replace it.\"),\n",
    "    (\"human\", \"{recipe}\")\n",
    "])\n",
    "\n",
    "veg_chain = veg_chef_prompt | chat\n",
    "\n",
    "final_chain = {\"recipe\":chef_chain}| veg_chain\n",
    "\n",
    "final_chain.invoke({\n",
    "    \"cuisine\" : \"indian\"\n",
    "})"
   ]
  },
  {
   "cell_type": "markdown",
   "id": "b2564599",
   "metadata": {},
   "source": [
    "## #3.5 Recap"
   ]
  },
  {
   "cell_type": "markdown",
   "id": "5f4537c4",
   "metadata": {},
   "source": [
    "s"
   ]
  }
 ],
 "metadata": {
  "kernelspec": {
   "display_name": "FullStack",
   "language": "python",
   "name": "python3"
  },
  "language_info": {
   "codemirror_mode": {
    "name": "ipython",
    "version": 3
   },
   "file_extension": ".py",
   "mimetype": "text/x-python",
   "name": "python",
   "nbconvert_exporter": "python",
   "pygments_lexer": "ipython3",
   "version": "3.11.8"
  }
 },
 "nbformat": 4,
 "nbformat_minor": 5
}
